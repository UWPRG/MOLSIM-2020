{
 "cells": [
  {
   "cell_type": "code",
   "execution_count": 10,
   "metadata": {},
   "outputs": [],
   "source": [
    "## Imports\n",
    "import numpy as np\n",
    "import matplotlib.pyplot as plt"
   ]
  },
  {
   "cell_type": "code",
   "execution_count": 12,
   "metadata": {},
   "outputs": [],
   "source": [
    "## Data\n",
    "\n",
    "# walkers, nodes, ranks/walker, open ranks\n",
    "parameters = np.array([[1, 1, 1, 1],\n",
    "                      [1, 1, 1, 16],\n",
    "                      [1, 1, 16, 1],\n",
    "                      [1, 1, 2, 1],\n",
    "                      [1, 1, 2, 8],\n",
    "                      [1, 1, 4, 1],\n",
    "                      [1, 1, 4, 4],\n",
    "                      [1, 1, 8, 1],\n",
    "                      [1, 1, 8, 2],\n",
    "                      [2, 1, 8, 1],\n",
    "                      [2, 2, 16, 1],\n",
    "                      [4, 1, 4, 1],\n",
    "                      [4, 2, 8, 1],\n",
    "                      [8, 1, 2, 1],\n",
    "                      [8, 2, 4, 1]])\n",
    "\n",
    "# ns/day/walker\n",
    "results = [[4.241],\n",
    "          [48.395],\n",
    "          [55.486],\n",
    "          [8.226],\n",
    "          [48.442],\n",
    "          [16.019],\n",
    "          [50.931],\n",
    "          [30.266],\n",
    "          [52.926],\n",
    "          [29.643, 29.681],\n",
    "          [11.337, 11.336],\n",
    "          [15.739, 15.727, 15.739, 15.741],\n",
    "          [12.256, 12.261, 12.256, 12.263],\n",
    "          [8.139, 8.136, 8.132, 8.130, 8.138, 8.127, 8.131, 8.137],\n",
    "          [6.677, 6.679, 6.680, 6.677, 6.678, 6.679, 6.682, 6.680]]\n",
    "\n",
    "# ns/dat\n",
    "performance = np.array([sum(i) for i in results])\n",
    "\n",
    "# number of cores\n",
    "core_num = parameters[:,0]*parameters[:,2]*parameters[:,3]\n",
    "print(cire)"
   ]
  },
  {
   "cell_type": "code",
   "execution_count": 15,
   "metadata": {},
   "outputs": [
    {
     "name": "stdout",
     "output_type": "stream",
     "text": [
      "[ 4.241 48.395 55.486  8.226 48.442 16.019 50.931 30.266 52.926 59.324\n",
      " 22.673 62.946 49.036 65.07  53.432]\n"
     ]
    },
    {
     "data": {
      "image/png": "[encoded data removed]",
      "text/plain": [
       "<Figure size 432x288 with 1 Axes>"
      ]
     },
     "metadata": {
      "needs_background": "light"
     },
     "output_type": "display_data"
    }
   ],
   "source": [
    "## Plot some results\n",
    "\n",
    "# Performance vs core requirement\n",
    "plt.scatter(core_num, performance)\n",
    "print(performance)"
   ]
  },
  {
   "cell_type": "markdown",
   "metadata": {},
   "source": [
    "## The highest 16 core one is likely the best as a high ns/day over core requirement choice. Some choices (like over multiple nodes) that require more cores do not nercessarily speed up the comoutation time. Suggest: 8 Walkers, 1 Node, 2 MPI ranks/walker, and 1 Open rank\n"
   ]
  },
  {
   "cell_type": "code",
   "execution_count": null,
   "metadata": {},
   "outputs": [],
   "source": []
  }
 ],
 "metadata": {
  "kernelspec": {
   "display_name": "Python 3",
   "language": "python",
   "name": "python3"
  },
  "language_info": {
   "codemirror_mode": {
    "name": "ipython",
    "version": 3
   },
   "file_extension": ".py",
   "mimetype": "text/x-python",
   "name": "python",
   "nbconvert_exporter": "python",
   "pygments_lexer": "ipython3",
   "version": "3.7.4"
  }
 },
 "nbformat": 4,
 "nbformat_minor": 2
}
